{
 "cells": [
  {
   "cell_type": "markdown",
   "metadata": {},
   "source": [
    "# Week 12 Lab Session document"
   ]
  },
  {
   "cell_type": "markdown",
   "metadata": {},
   "source": [
    "## Exercise 1: Binary Search Trees\n",
    "\n",
    "Insert the entries (1,A), (2,B), (3,C), (4,D), and (5,E), in this order,\n",
    "into an initially empty binary search tree. What will it look like?"
   ]
  },
  {
   "cell_type": "code",
   "execution_count": 12,
   "metadata": {},
   "outputs": [
    {
     "name": "stdout",
     "output_type": "stream",
     "text": [
      "└── 1\n",
      "    └── 2\n",
      "        └── 3\n",
      "            └── 4\n",
      "                └── 5\n"
     ]
    }
   ],
   "source": [
    "from binary_search_tree import TreeMap\n",
    "\n",
    "\n",
    "def draw_tree(tree, position=None, prefix=\"\", is_tail=True):\n",
    "    if position is None:\n",
    "        position = tree.root()\n",
    "    if position is not None:\n",
    "        # Get the key or value from the _Item object\n",
    "        element = position.element()\n",
    "        key = element._key  # or element._value if you prefer to show the value instead\n",
    "        print(prefix + (\"└── \" if is_tail else \"├── \") + str(key))\n",
    "        \n",
    "        children = list(tree.children(position))\n",
    "        for i, child in enumerate(children):\n",
    "            draw_tree(\n",
    "                tree,\n",
    "                child,\n",
    "                prefix + (\"    \" if is_tail else \"│   \"),\n",
    "                i == len(children) - 1,\n",
    "            )\n",
    "\n",
    "\n",
    "# Example usage:\n",
    "tree = TreeMap()\n",
    "tree[1] = 'A'\n",
    "tree[2] = 'B'\n",
    "tree[3] = 'C'\n",
    "tree[4] = 'D'\n",
    "tree[5] = 'E'\n",
    "\n",
    "draw_tree(tree)"
   ]
  },
  {
   "cell_type": "markdown",
   "metadata": {},
   "source": [
    "## Exercise 2: Binary Search Trees\n",
    "\n",
    "Insert, into an empty binary search tree, entries with keys 30, 40, 24,\n",
    "58, 48, 26, 11, 13 (in this order). Draw the tree after each insertion.\n",
    "\n",
    "For example:\n",
    "\n",
    "```\n",
    "Step 1:\n",
    "30\n",
    "\n",
    "Step 2\n",
    "30\n",
    "\\\n",
    "40\n",
    "\n",
    "Step 3\n",
    "30\n",
    "/ \\\n",
    "24 40\n",
    "```\n",
    "\n",
    "And so on."
   ]
  },
  {
   "cell_type": "code",
   "execution_count": 13,
   "metadata": {},
   "outputs": [
    {
     "name": "stdout",
     "output_type": "stream",
     "text": [
      "└── 30\n",
      "    ├── 24\n",
      "    │   ├── 11\n",
      "    │   │   └── 13\n",
      "    │   └── 26\n",
      "    └── 40\n",
      "        └── 58\n",
      "            └── 48\n"
     ]
    }
   ],
   "source": [
    "tree = TreeMap()\n",
    "keys = [30, 40, 24, 58, 48, 26, 11, 13]\n",
    "\n",
    "for key in keys:\n",
    "    tree[key] = None  # Insert the key with a dummy value\n",
    "\n",
    "draw_tree(tree)"
   ]
  },
  {
   "cell_type": "markdown",
   "metadata": {},
   "source": [
    "## Exercise 3\n",
    "\n",
    "Draw the binary search trees that can store the keys {1,2,3}? Hint: draw\n",
    "all trees with root 1, then, root 2, then root 3."
   ]
  },
  {
   "cell_type": "code",
   "execution_count": 17,
   "metadata": {},
   "outputs": [
    {
     "name": "stdout",
     "output_type": "stream",
     "text": [
      "Tree 1.1:\n",
      "└── 1\n",
      "    └── 2\n",
      "        └── 3\n",
      "Tree 1.2:\n",
      "└── 1\n",
      "    └── 3\n",
      "        └── 2\n",
      "Tree 2.1:\n",
      "└── 2\n",
      "    ├── 1\n",
      "    └── 3\n",
      "Tree 3.1:\n",
      "└── 3\n",
      "    └── 1\n",
      "        └── 2\n",
      "Tree 3.2:\n",
      "└── 3\n",
      "    └── 2\n",
      "        └── 1\n"
     ]
    }
   ],
   "source": [
    "print(\"Tree 1.1:\")\n",
    "tree1 = TreeMap()\n",
    "tree1[1] = 'one'\n",
    "tree1[2] = 'two'\n",
    "tree1[3] = 'three'\n",
    "draw_tree(tree1)\n",
    "\n",
    "print(\"Tree 1.2:\")\n",
    "tree2 = TreeMap()\n",
    "tree2[1] = 'one'\n",
    "tree2[3] = 'three'\n",
    "tree2[2] = 'two'\n",
    "draw_tree(tree2)\n",
    "\n",
    "print(\"Tree 2.1:\")\n",
    "tree3 = TreeMap()\n",
    "tree3[2] = 'two'\n",
    "tree3[1] = 'one'\n",
    "tree3[3] = 'three'\n",
    "draw_tree(tree3)\n",
    "\n",
    "print(\"Tree 3.1:\")\n",
    "tree4 = TreeMap()\n",
    "tree4[3] = 'three'\n",
    "tree4[1] = 'one'\n",
    "tree4[2] = 'two'\n",
    "draw_tree(tree4)\n",
    "\n",
    "print(\"Tree 3.2:\")\n",
    "tree5 = TreeMap()\n",
    "tree5[3] = 'three'\n",
    "tree5[2] = 'two'\n",
    "tree5[1] = 'one'\n",
    "draw_tree(tree5)"
   ]
  },
  {
   "cell_type": "markdown",
   "metadata": {},
   "source": [
    "## Exercise 4\n",
    "\n",
    "To delete a node that has two children ( for example to\n",
    "delete node with key 3, we perform the following steps:\n",
    "\n",
    "![](media/image1.png)\n",
    "\n",
    "a)  we find the internal node **w** that follows **v** in an inorder\n",
    "    traversal\n",
    "\n",
    "b)  we copy key(w) into node v\n",
    "\n",
    "c)  we remove node w and its left child z (which must be a leaf, why?)\n",
    "    by means of operation removeExternal(z)\n",
    "\n",
    "Explain why the left child z is a leaf? Hint: assume that is not a leaf."
   ]
  },
  {
   "cell_type": "markdown",
   "metadata": {},
   "source": [
    "The left child `z` of the node `w` must be a leaf because otherwise, `w` would not be the correct inorder predecessor of `v`. The inorder predecessor is by definition the largest node in the left subtree of `v`, and for `w` to be this node, it cannot have a right child, and any left child must itself have no children."
   ]
  },
  {
   "cell_type": "markdown",
   "metadata": {},
   "source": [
    "## Exercise 5\n",
    "\n",
    "In the main method of TreeMap.java class from Lesson11Examples, create a\n",
    "binary search tree with integer keys and String values. Search for a\n",
    "key. Display the values in increasing order by keys."
   ]
  },
  {
   "cell_type": "code",
   "execution_count": 15,
   "metadata": {},
   "outputs": [
    {
     "name": "stdout",
     "output_type": "stream",
     "text": [
      "Value for key 6: Six\n",
      "Values in the tree in increasing order of keys:\n",
      "Key: 3, Value: Three\n",
      "Key: 5, Value: Five\n",
      "Key: 6, Value: Six\n",
      "Key: 10, Value: Ten\n",
      "Key: 20, Value: Twenty\n"
     ]
    }
   ],
   "source": [
    "from binary_search_tree import TreeMap\n",
    "\n",
    "# Create an instance of TreeMap\n",
    "tree_map = TreeMap()\n",
    "\n",
    "# Insert some key-value pairs into the tree\n",
    "tree_map[10] = \"Ten\"\n",
    "tree_map[20] = \"Twenty\"\n",
    "tree_map[5] = \"Five\"\n",
    "tree_map[6] = \"Six\"\n",
    "tree_map[3] = \"Three\"\n",
    "\n",
    "# Search for a specific key\n",
    "search_key = 6\n",
    "try:\n",
    "    print(f\"Value for key {search_key}: {tree_map[search_key]}\")\n",
    "except KeyError:\n",
    "    print(f\"Key {search_key} not found in the tree.\")\n",
    "\n",
    "# Display all values in increasing order by keys\n",
    "print(\"Values in the tree in increasing order of keys:\")\n",
    "for key in tree_map:\n",
    "    print(f\"Key: {key}, Value: {tree_map[key]}\")"
   ]
  },
  {
   "cell_type": "markdown",
   "metadata": {},
   "source": [
    "## Exercise 6\n",
    "\n",
    "In the main method of TreeMap.java class from\n",
    "Lesson11Examples , create the binary search tree from slide 16:\n",
    "\n",
    "![](media/image2.png)\n",
    "\n",
    "Perform the following operations:\n",
    "\n",
    "a.  remove 4\n",
    "\n",
    "b.  insert 4\n",
    "\n",
    "c.  insert 5\n",
    "\n",
    "d.  remove 4\n",
    "\n",
    "e.  find the predecessor of a position\n"
   ]
  },
  {
   "cell_type": "code",
   "execution_count": 16,
   "metadata": {},
   "outputs": [
    {
     "name": "stdout",
     "output_type": "stream",
     "text": [
      "Removing key 4:\n",
      "Key: 1, Value: One\n",
      "Key: 2, Value: Two\n",
      "Key: 3, Value: Three\n",
      "\n",
      "Inserting key 4:\n",
      "Key: 1, Value: One\n",
      "Key: 2, Value: Two\n",
      "Key: 3, Value: Three\n",
      "Key: 4, Value: Four\n",
      "\n",
      "Inserting key 5:\n",
      "Key: 1, Value: One\n",
      "Key: 2, Value: Two\n",
      "Key: 3, Value: Three\n",
      "Key: 4, Value: Four\n",
      "Key: 5, Value: Five\n",
      "\n",
      "Removing key 4 again:\n",
      "Key: 1, Value: One\n",
      "Key: 2, Value: Two\n",
      "Key: 3, Value: Three\n",
      "Key: 5, Value: Five\n",
      "\n",
      "Finding predecessor of key 5:\n",
      "Predecessor of key 5: Key: 3, Value: Three\n"
     ]
    }
   ],
   "source": [
    "from binary_search_tree import TreeMap\n",
    "\n",
    "\n",
    "# Create an instance of TreeMap\n",
    "tree_map = TreeMap()\n",
    "\n",
    "# Insert some key-value pairs into the tree\n",
    "tree_map[1] = \"One\"\n",
    "tree_map[2] = \"Two\"\n",
    "tree_map[3] = \"Three\"\n",
    "tree_map[4] = \"Four\"\n",
    "\n",
    "# a. Remove 4\n",
    "print(\"Removing key 4:\")\n",
    "del tree_map[4]\n",
    "for key in tree_map:\n",
    "    print(f\"Key: {key}, Value: {tree_map[key]}\")\n",
    "\n",
    "# b. Insert 4\n",
    "print(\"\\nInserting key 4:\")\n",
    "tree_map[4] = \"Four\"\n",
    "for key in tree_map:\n",
    "    print(f\"Key: {key}, Value: {tree_map[key]}\")\n",
    "\n",
    "# c. Insert 5\n",
    "print(\"\\nInserting key 5:\")\n",
    "tree_map[5] = \"Five\"\n",
    "for key in tree_map:\n",
    "    print(f\"Key: {key}, Value: {tree_map[key]}\")\n",
    "\n",
    "# d. Remove 4\n",
    "print(\"\\nRemoving key 4 again:\")\n",
    "del tree_map[4]\n",
    "for key in tree_map:\n",
    "    print(f\"Key: {key}, Value: {tree_map[key]}\")\n",
    "\n",
    "# e. Find the predecessor of position 5\n",
    "print(\"\\nFinding predecessor of key 5:\")\n",
    "pos_5 = tree_map.find_position(5)\n",
    "predecessor = tree_map.before(pos_5)\n",
    "if predecessor:\n",
    "    print(\n",
    "        f\"Predecessor of key 5: Key: {predecessor.key()}, Value: {predecessor.value()}\"\n",
    "    )\n",
    "else:\n",
    "    print(\"Key 5 has no predecessor.\")"
   ]
  }
 ],
 "metadata": {
  "kernelspec": {
   "display_name": "Python 3",
   "language": "python",
   "name": "python3"
  },
  "language_info": {
   "codemirror_mode": {
    "name": "ipython",
    "version": 3
   },
   "file_extension": ".py",
   "mimetype": "text/x-python",
   "name": "python",
   "nbconvert_exporter": "python",
   "pygments_lexer": "ipython3",
   "version": "3.12.1"
  }
 },
 "nbformat": 4,
 "nbformat_minor": 2
}
